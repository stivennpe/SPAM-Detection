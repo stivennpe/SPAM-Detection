{
 "cells": [
  {
   "cell_type": "code",
   "execution_count": 1,
   "id": "e3de1f30",
   "metadata": {},
   "outputs": [],
   "source": [
    "import pandas as pd\n",
    "import numpy as np\n",
    "import pickle\n",
    "import tensorflow as tf\n",
    "import random\n",
    "import math\n",
    "\n",
    "# helps in text preprocessing\n",
    "from tensorflow.keras.preprocessing.sequence import pad_sequences\n",
    "from tensorflow.keras.preprocessing.text import Tokenizer\n",
    "\n",
    "# helps in model building\n",
    "from tensorflow.keras.models import Sequential\n",
    "from tensorflow.keras.layers import Dense\n",
    "from tensorflow.keras.layers import Flatten\n",
    "from tensorflow.keras.layers import Dropout\n",
    "from tensorflow.keras.layers import Embedding\n",
    "from tensorflow.keras.layers import LSTM\n",
    "from tensorflow.keras.callbacks import EarlyStopping\n",
    "from sklearn.model_selection import train_test_split\n",
    "from keras.layers import Bidirectional, GlobalMaxPool1D\n",
    "\n",
    "from sklearn.metrics import classification_report, confusion_matrix, accuracy_score\n",
    "import matplotlib.pyplot as plt\n",
    "import seaborn as sns\n",
    "%matplotlib inline\n",
    "import pickle\n",
    "\n"
   ]
  },
  {
   "cell_type": "code",
   "execution_count": 2,
   "id": "74d6322b",
   "metadata": {},
   "outputs": [],
   "source": [
    "#read Religion topic\n",
    "religion_path = \"C:/Users/stive/Documents/spam/Topic_00.en\"\n",
    "#save each sentence into np.array\n",
    "with open(religion_path, encoding=\"utf8\") as f:\n",
    "    relig_content = [line.rstrip() for line in f]\n",
    "rel_arr = np.array(relig_content)\n",
    "#add for each sentence the same class (e.g.: 0)\n",
    "rel_arr_label = np.full(len(rel_arr), 0)\n",
    "\n",
    "\n",
    "random.seed(42)\n",
    "#read all other topics\n",
    "other_topic_numb = 9\n",
    "max_topic_numb = 9\n",
    "general_arr = []\n",
    "count = 0\n",
    "segments_pro_topic = math.ceil(len(rel_arr) / other_topic_numb)\n",
    "while count <= max_topic_numb:\n",
    "    if(count != 0):#to skip undesired topics\n",
    "        general_path = f\"C:/Users/stive/Documents/spam/Topic_{count:02d}.en\"\n",
    "        #save each sentence into np.array\n",
    "        #print(segments_pro_topic)\n",
    "        #save some sentences into np.array (the same amount as Religion topic ones)\n",
    "        with open(general_path, encoding=\"utf8\") as f:\n",
    "            general_arr = general_arr + (random.sample([line.rstrip() for line in f], segments_pro_topic))\n",
    "    count = count + 1\n",
    "\n",
    "#print(len(general_arr))\n",
    "random.shuffle(general_arr)\n",
    "#add for each sentence the same class (Different from Religion! e.g.: 1)\n",
    "general_arr_label = np.full(len(general_arr), 1)\n",
    "\n",
    "conc_arr = np.concatenate((rel_arr,general_arr))\n",
    "conc_arr_label = np.concatenate((rel_arr_label,general_arr_label))"
   ]
  },
  {
   "cell_type": "code",
   "execution_count": 3,
   "id": "b939d4e3",
   "metadata": {},
   "outputs": [
    {
     "name": "stdout",
     "output_type": "stream",
     "text": [
      "293144\n",
      "293144\n"
     ]
    }
   ],
   "source": [
    "print(len(conc_arr))\n",
    "print(len(conc_arr_label))\n"
   ]
  },
  {
   "cell_type": "code",
   "execution_count": 4,
   "id": "ac4d33e1",
   "metadata": {},
   "outputs": [],
   "source": [
    "x_train, x_test, y_train, y_test = train_test_split(conc_arr, conc_arr_label, test_size=0.20, random_state=42)"
   ]
  },
  {
   "cell_type": "code",
   "execution_count": 5,
   "id": "9f8ba897",
   "metadata": {},
   "outputs": [],
   "source": [
    "# prepare tokenizer, all punctuation is removed, turning the texts into space-separated sequences. These sequences are then split into lists of tokens\n",
    "t = Tokenizer()\n",
    "t.fit_on_texts(x_train)\n",
    "#do not apply fit_on_texts to your test data"
   ]
  },
  {
   "cell_type": "code",
   "execution_count": 6,
   "id": "2e3108e5",
   "metadata": {},
   "outputs": [],
   "source": [
    "#encode as integers based on the learned vocabulary\n",
    "encoded_train = t.texts_to_sequences(x_train)\n",
    "encoded_test = t.texts_to_sequences(x_test)\n"
   ]
  },
  {
   "cell_type": "code",
   "execution_count": 7,
   "id": "488e4c53",
   "metadata": {},
   "outputs": [],
   "source": [
    "# pad documents to a max length of the highest value\n",
    "#max_length = max_value\n",
    "\n",
    "padded_train = pad_sequences(encoded_train, padding='post')#maxlen=max_length\n",
    "padded_test = pad_sequences(encoded_test, padding='post') #maxlen=max_length\n"
   ]
  },
  {
   "cell_type": "code",
   "execution_count": 8,
   "id": "2768d1d6",
   "metadata": {},
   "outputs": [
    {
     "name": "stdout",
     "output_type": "stream",
     "text": [
      "Model: \"sequential\"\n",
      "_________________________________________________________________\n",
      "Layer (type)                 Output Shape              Param #   \n",
      "=================================================================\n",
      "embedding (Embedding)        (None, None, 20)          2044700   \n",
      "_________________________________________________________________\n",
      "lstm (LSTM)                  (None, None, 20)          3280      \n",
      "_________________________________________________________________\n",
      "module_wrapper (ModuleWrappe (None, 20)                0         \n",
      "_________________________________________________________________\n",
      "dense (Dense)                (None, 500)               10500     \n",
      "_________________________________________________________________\n",
      "dense_1 (Dense)              (None, 200)               100200    \n",
      "_________________________________________________________________\n",
      "dropout (Dropout)            (None, 200)               0         \n",
      "_________________________________________________________________\n",
      "dense_2 (Dense)              (None, 100)               20100     \n",
      "_________________________________________________________________\n",
      "dense_3 (Dense)              (None, 1)                 101       \n",
      "=================================================================\n",
      "Total params: 2,178,881\n",
      "Trainable params: 2,178,881\n",
      "Non-trainable params: 0\n",
      "_________________________________________________________________\n",
      "None\n"
     ]
    }
   ],
   "source": [
    "vocab_size = len(t.word_index) + 1\n",
    "## some config values\n",
    "embed_size = 100 # how big is each word vector\n",
    "max_features = 44971 # how many unique words to use (i.e num rows in embedding vector)\n",
    "n_lstm = 20\n",
    "drop_lstm =0.2\n",
    "\n",
    "# define the model\n",
    "model = Sequential()\n",
    "model.add(Embedding(vocab_size, 20))#input_length=max_length\n",
    "model.add(LSTM(n_lstm, dropout=drop_lstm, return_sequences=True))\n",
    "model.add(GlobalMaxPool1D())\n",
    "model.add(Dense(500, activation='relu'))\n",
    "model.add(Dense(200, activation='relu'))\n",
    "model.add(Dropout(0.5))\n",
    "model.add(Dense(100, activation='relu'))\n",
    "model.add(Dense(1, activation='sigmoid'))\n",
    "\n",
    "# compile the model\n",
    "model.compile(optimizer='rmsprop', loss='binary_crossentropy', metrics=['accuracy'])\n",
    "\n",
    "# summarize the model\n",
    "print(model.summary())"
   ]
  },
  {
   "cell_type": "code",
   "execution_count": 9,
   "id": "45190088",
   "metadata": {},
   "outputs": [
    {
     "name": "stdout",
     "output_type": "stream",
     "text": [
      "Epoch 1/5\n",
      "7329/7329 [==============================] - 1741s 229ms/step - loss: 0.1922 - accuracy: 0.9202 - val_loss: 0.1624 - val_accuracy: 0.9288\n",
      "Epoch 2/5\n",
      "7329/7329 [==============================] - 1679s 229ms/step - loss: 0.1551 - accuracy: 0.9393 - val_loss: 0.1474 - val_accuracy: 0.9379\n",
      "Epoch 3/5\n",
      "7329/7329 [==============================] - 1611s 220ms/step - loss: 0.1502 - accuracy: 0.9409 - val_loss: 0.1461 - val_accuracy: 0.9418\n",
      "Epoch 4/5\n",
      "7329/7329 [==============================] - 1638s 223ms/step - loss: 0.1482 - accuracy: 0.9427 - val_loss: 0.1470 - val_accuracy: 0.9412\n",
      "Epoch 5/5\n",
      "7329/7329 [==============================] - 1661s 227ms/step - loss: 0.1472 - accuracy: 0.9447 - val_loss: 0.1659 - val_accuracy: 0.9410\n",
      "Epoch 00005: early stopping\n"
     ]
    },
    {
     "data": {
      "text/plain": [
       "<tensorflow.python.keras.callbacks.History at 0x1a5c16bba60>"
      ]
     },
     "execution_count": 9,
     "metadata": {},
     "output_type": "execute_result"
    }
   ],
   "source": [
    "early_stop = EarlyStopping(monitor='val_loss', mode='min', verbose=1, patience=2)\n",
    "\n",
    "# fit the model\n",
    "model.fit(x=padded_train,\n",
    "         y=y_train,\n",
    "         epochs=5,\n",
    "         validation_data=(padded_test, y_test), verbose=1,\n",
    "         callbacks=[early_stop]\n",
    "         )"
   ]
  },
  {
   "cell_type": "code",
   "execution_count": 10,
   "id": "4a297f66",
   "metadata": {},
   "outputs": [],
   "source": [
    "#Metrics\n",
    "\n",
    "def c_report(y_true, y_pred):\n",
    "   print(\"Classification Report\")\n",
    "   print(classification_report(y_true, y_pred))\n",
    "   acc_sc = accuracy_score(y_true, y_pred)\n",
    "   print(\"Accuracy : \"+ str(acc_sc))\n",
    "   return acc_sc\n",
    "\n",
    "def plot_confusion_matrix(y_true, y_pred):\n",
    "   mtx = confusion_matrix(y_true, y_pred)\n",
    "   sns.heatmap(mtx, annot=True, fmt='d', linewidths=.5, \n",
    "               cmap=\"Blues\", cbar=False)\n",
    "   plt.ylabel('True label')\n",
    "   plt.xlabel('Predicted label')"
   ]
  },
  {
   "cell_type": "code",
   "execution_count": 11,
   "id": "9f49fac8",
   "metadata": {},
   "outputs": [],
   "source": [
    "preds = (model.predict(padded_test) > 0.5).astype(\"int32\")\n"
   ]
  },
  {
   "cell_type": "code",
   "execution_count": 12,
   "id": "ec9bf388",
   "metadata": {},
   "outputs": [
    {
     "name": "stdout",
     "output_type": "stream",
     "text": [
      "Classification Report\n",
      "              precision    recall  f1-score   support\n",
      "\n",
      "           0       0.92      0.97      0.94     29303\n",
      "           1       0.96      0.92      0.94     29326\n",
      "\n",
      "    accuracy                           0.94     58629\n",
      "   macro avg       0.94      0.94      0.94     58629\n",
      "weighted avg       0.94      0.94      0.94     58629\n",
      "\n",
      "Accuracy : 0.940967780449948\n"
     ]
    },
    {
     "data": {
      "text/plain": [
       "0.940967780449948"
      ]
     },
     "execution_count": 12,
     "metadata": {},
     "output_type": "execute_result"
    }
   ],
   "source": [
    "c_report(y_test, preds)"
   ]
  },
  {
   "cell_type": "code",
   "execution_count": 13,
   "id": "b4f5f20a",
   "metadata": {},
   "outputs": [
    {
     "data": {
      "image/png": "[encoded data removed]",
      "text/plain": [
       "<Figure size 432x288 with 1 Axes>"
      ]
     },
     "metadata": {
      "needs_background": "light"
     },
     "output_type": "display_data"
    }
   ],
   "source": [
    "plot_confusion_matrix(y_test, preds)"
   ]
  },
  {
   "cell_type": "code",
   "execution_count": 14,
   "id": "ef06f2e1",
   "metadata": {},
   "outputs": [
    {
     "name": "stderr",
     "output_type": "stream",
     "text": [
      "WARNING:absl:Found untraced functions such as lstm_cell_layer_call_fn, lstm_cell_layer_call_and_return_conditional_losses, lstm_cell_layer_call_fn, lstm_cell_layer_call_and_return_conditional_losses, lstm_cell_layer_call_and_return_conditional_losses while saving (showing 5 of 5). These functions will not be directly callable after loading.\n"
     ]
    },
    {
     "name": "stdout",
     "output_type": "stream",
     "text": [
      "INFO:tensorflow:Assets written to: spam_model_5\\assets\n"
     ]
    },
    {
     "name": "stderr",
     "output_type": "stream",
     "text": [
      "INFO:tensorflow:Assets written to: spam_model_5\\assets\n"
     ]
    }
   ],
   "source": [
    "model.save(\"spam_model_2\")"
   ]
  },
  {
   "cell_type": "code",
   "execution_count": 16,
   "id": "2afa500d",
   "metadata": {},
   "outputs": [],
   "source": [
    "from tensorflow.keras.models import load_model\n",
    "print(\"[INFO] loading pre-trained network...\")\n",
    "#load model\n",
    "s_model = tf.keras.models.load_model(\"spam_model_2\")\n",
    "print(s_model.summary())\n",
    "#The second dimension of the input/embedding layer should match the lenght of the pad sequences\n"
   ]
  },
  {
   "cell_type": "code",
   "execution_count": null,
   "id": "1d4087f3",
   "metadata": {},
   "outputs": [],
   "source": [
    "pred = None\n",
    "test_arr_label= None\n",
    "index = None\n",
    "j = None\n",
    "test_arr = None\n"
   ]
  },
  {
   "cell_type": "code",
   "execution_count": 17,
   "id": "5813d23f",
   "metadata": {},
   "outputs": [
    {
     "name": "stdout",
     "output_type": "stream",
     "text": [
      "Model: \"sequential\"\n",
      "_________________________________________________________________\n",
      "Layer (type)                 Output Shape              Param #   \n",
      "=================================================================\n",
      "embedding (Embedding)        (None, None, 20)          2044700   \n",
      "_________________________________________________________________\n",
      "lstm (LSTM)                  (None, None, 20)          3280      \n",
      "_________________________________________________________________\n",
      "module_wrapper (ModuleWrappe (None, 20)                0         \n",
      "_________________________________________________________________\n",
      "dense (Dense)                (None, 500)               10500     \n",
      "_________________________________________________________________\n",
      "dense_1 (Dense)              (None, 200)               100200    \n",
      "_________________________________________________________________\n",
      "dropout (Dropout)            (None, 200)               0         \n",
      "_________________________________________________________________\n",
      "dense_2 (Dense)              (None, 100)               20100     \n",
      "_________________________________________________________________\n",
      "dense_3 (Dense)              (None, 1)                 101       \n",
      "=================================================================\n",
      "Total params: 2,178,881\n",
      "Trainable params: 2,178,881\n",
      "Non-trainable params: 0\n",
      "_________________________________________________________________\n",
      "None\n"
     ]
    },
    {
     "data": {
      "text/plain": [
       "array([[1],\n",
       "       [1],\n",
       "       [1],\n",
       "       ...,\n",
       "       [1],\n",
       "       [1],\n",
       "       [1]])"
      ]
     },
     "execution_count": 17,
     "metadata": {},
     "output_type": "execute_result"
    }
   ],
   "source": [
    "#Change max_len according to the shape of the input/embedding layer (second dimension of the summary printer before)\n",
    "\n",
    "\n",
    "def predict_spam(predict_msg):\n",
    "    with open(predict_msg, encoding=\"utf8\") as f:\n",
    "        test_content = [line.rstrip() for line in f]\n",
    "    global test_arr    \n",
    "    test_arr = np.array(test_content)\n",
    "    global test_arr_label\n",
    "    #test_arr_label = np.full(len(test_arr), 1)\n",
    "    t = Tokenizer()\n",
    "    max_len = 20\n",
    "    test_proc = t.texts_to_sequences((o)for o in test_arr)\n",
    "    test_proc = pad_sequences(test_proc, maxlen=max_len, padding='post')\n",
    "    \n",
    "    #print(test_proc.shape)\n",
    "    global pred\n",
    "    pred = (s_model.predict(test_proc) > 0.1).astype(\"int32\")\n",
    "    return pred\n",
    "    global index, j\n",
    "    index, j = np.where(pred == 0)\n",
    "    print(index)\n",
    "    print(j)\n",
    "    print(len(index))\n",
    "    print(len(j))\n",
    "\n",
    "    \n",
    "    selection = [test_arr[ind] for ind in index]\n",
    "    print(selection[:10])\n",
    "    \n",
    "    with open('C:/Users/stive/Documents/spamwrong_rel_es.txt', 'w') as f:\n",
    "        for sel in selection:\n",
    "            print (sel)\n",
    "            f.write(\"%s\\n\" % str(sel))\n",
    "\n",
    "    \n",
    "predict_spam(\"C:/Users/stive/Documents/spam/08_mixedSites.en\")"
   ]
  },
  {
   "cell_type": "code",
   "execution_count": 18,
   "id": "fc44039e",
   "metadata": {},
   "outputs": [],
   "source": [
    "#Separate individual test\n",
    "test_path = \"C:/Users/stive/Documents/spam/Topic_02.en\"\n",
    "#save each sentence into np.array\n",
    "with open(test_path, encoding=\"utf8\") as f:\n",
    "    test_content = [line.rstrip() for line in f]\n",
    "test_arr = np.array(test_content)\n",
    "#add for each sentence the same class (e.g.: 0)\n",
    "test_arr_label = np.full(len(test_arr), 1)\n",
    "\n"
   ]
  },
  {
   "cell_type": "code",
   "execution_count": 19,
   "id": "03f8a9e6",
   "metadata": {},
   "outputs": [],
   "source": [
    "#print(test_arr[:10])\n",
    "#print(len(test_arr))"
   ]
  },
  {
   "cell_type": "code",
   "execution_count": 21,
   "id": "10e944d8",
   "metadata": {},
   "outputs": [],
   "source": [
    "test_proc = t.texts_to_sequences((o)for o in test_arr)\n",
    "#print(test_proc[:10])\n",
    "#print(len(test_proc))\n"
   ]
  },
  {
   "cell_type": "code",
   "execution_count": 22,
   "id": "4091fb6a",
   "metadata": {},
   "outputs": [],
   "source": [
    "test_proc = pad_sequences(test_proc, padding='post')\n",
    "#print(test_proc[:2])\n",
    "#print(type(test_proc))"
   ]
  },
  {
   "cell_type": "code",
   "execution_count": 23,
   "id": "55149814",
   "metadata": {},
   "outputs": [
    {
     "name": "stdout",
     "output_type": "stream",
     "text": [
      "(37804, 171)\n"
     ]
    }
   ],
   "source": [
    "print(test_proc.shape)\n",
    "\n",
    "#print(test_proc)\n",
    "#print(len(test_proc))\n",
    "#print(type(test_proc))"
   ]
  },
  {
   "cell_type": "code",
   "execution_count": 24,
   "id": "1213518c",
   "metadata": {},
   "outputs": [],
   "source": [
    "pred = (model.predict(test_proc) > 0.1).astype(\"int32\")"
   ]
  },
  {
   "cell_type": "code",
   "execution_count": null,
   "id": "038e8fa7",
   "metadata": {},
   "outputs": [],
   "source": [
    "#print(pred[:10])"
   ]
  },
  {
   "cell_type": "code",
   "execution_count": 25,
   "id": "c4dd864d",
   "metadata": {},
   "outputs": [
    {
     "name": "stdout",
     "output_type": "stream",
     "text": [
      "Classification Report\n",
      "              precision    recall  f1-score   support\n",
      "\n",
      "           0       0.00      0.00      0.00         0\n",
      "           1       1.00      1.00      1.00     37804\n",
      "\n",
      "    accuracy                           1.00     37804\n",
      "   macro avg       0.50      0.50      0.50     37804\n",
      "weighted avg       1.00      1.00      1.00     37804\n",
      "\n",
      "Accuracy : 0.9979631784996297\n"
     ]
    },
    {
     "name": "stderr",
     "output_type": "stream",
     "text": [
      "C:\\ProgramData\\Anaconda3\\lib\\site-packages\\sklearn\\metrics\\_classification.py:1245: UndefinedMetricWarning: Recall and F-score are ill-defined and being set to 0.0 in labels with no true samples. Use `zero_division` parameter to control this behavior.\n",
      "  _warn_prf(average, modifier, msg_start, len(result))\n",
      "C:\\ProgramData\\Anaconda3\\lib\\site-packages\\sklearn\\metrics\\_classification.py:1245: UndefinedMetricWarning: Recall and F-score are ill-defined and being set to 0.0 in labels with no true samples. Use `zero_division` parameter to control this behavior.\n",
      "  _warn_prf(average, modifier, msg_start, len(result))\n",
      "C:\\ProgramData\\Anaconda3\\lib\\site-packages\\sklearn\\metrics\\_classification.py:1245: UndefinedMetricWarning: Recall and F-score are ill-defined and being set to 0.0 in labels with no true samples. Use `zero_division` parameter to control this behavior.\n",
      "  _warn_prf(average, modifier, msg_start, len(result))\n"
     ]
    },
    {
     "data": {
      "text/plain": [
       "0.9979631784996297"
      ]
     },
     "execution_count": 25,
     "metadata": {},
     "output_type": "execute_result"
    }
   ],
   "source": [
    "c_report(test_arr_label, pred)"
   ]
  },
  {
   "cell_type": "code",
   "execution_count": 26,
   "id": "00aa2811",
   "metadata": {},
   "outputs": [
    {
     "data": {
      "image/png": "[encoded data removed]",
      "text/plain": [
       "<Figure size 432x288 with 1 Axes>"
      ]
     },
     "metadata": {
      "needs_background": "light"
     },
     "output_type": "display_data"
    }
   ],
   "source": [
    "plot_confusion_matrix(test_arr_label, pred)"
   ]
  },
  {
   "cell_type": "code",
   "execution_count": null,
   "id": "a5120d84",
   "metadata": {},
   "outputs": [],
   "source": [
    "#To set other metrics\n",
    "#from sklearn.metrics import confusion_matrix,f1_score, precision_score,recall_score\n",
    "#y_predict  = [1 if o>0.5 else 0 for o in model.predict(test_proc)]"
   ]
  },
  {
   "cell_type": "code",
   "execution_count": 27,
   "id": "e1b23ce1",
   "metadata": {},
   "outputs": [
    {
     "name": "stdout",
     "output_type": "stream",
     "text": [
      "[  598   844  1258  1563  3666  3735  3958  5889  6414  6762  7909  8055\n",
      "  9138  9333  9989 10564 10749 10785 11152 11189 11775 11902 12366 12396\n",
      " 13080 14609 15196 15307 16235 16388 16702 16808 17531 20927 20986 21006\n",
      " 21041 21169 21323 21409 21734 21822 21920 23220 23441 23997 24203 24358\n",
      " 24902 25470 25863 25987 26473 27839 28369 28541 29021 29137 29170 29179\n",
      " 30250 30476 31222 31391 31635 31911 32272 33830 33989 34163 34618 35183\n",
      " 35871 36082 36130 36445 36660]\n",
      "[0 0 0 0 0 0 0 0 0 0 0 0 0 0 0 0 0 0 0 0 0 0 0 0 0 0 0 0 0 0 0 0 0 0 0 0 0\n",
      " 0 0 0 0 0 0 0 0 0 0 0 0 0 0 0 0 0 0 0 0 0 0 0 0 0 0 0 0 0 0 0 0 0 0 0 0 0\n",
      " 0 0 0]\n",
      "77\n",
      "77\n",
      "['For I am elderly, and my wife is advanced in years.”', 'Follow your passion and do something you love, visit our fitness trainer certs and be a fully certified personal trainer.', '31:22 He who surrenders himself to Allah and is a good doer, has grasped the firmest handle.', '5.Fitting for all men and women of adults and elderly both right and left Ears', 'Scolding him did no good.', 'Because of his background in a simple life with the pursuit of their own, it works very pure.', 'Be holy by working for the common good and renouncing personal gain.[14]', \"It's good that we make it clear\", 'Good leaders are good listeners.', 'This is then sent to the receiver which the delivers the sound to your ear in a way that is most true-to-life.']\n"
     ]
    }
   ],
   "source": [
    "index, j = np.where(pred == 0)\n",
    "print(index)\n",
    "print(j)\n",
    "print(len(index))\n",
    "print(len(j))\n",
    "\n",
    "\n",
    "selection = [test_arr[ind] for ind in index]\n",
    "print(selection[:10])\n",
    "\n",
    "#print(test_arr[:10])"
   ]
  }
 ],
 "metadata": {
  "kernelspec": {
   "display_name": "Python 3",
   "language": "python",
   "name": "python3"
  },
  "language_info": {
   "codemirror_mode": {
    "name": "ipython",
    "version": 3
   },
   "file_extension": ".py",
   "mimetype": "text/x-python",
   "name": "python",
   "nbconvert_exporter": "python",
   "pygments_lexer": "ipython3",
   "version": "3.8.8"
  }
 },
 "nbformat": 4,
 "nbformat_minor": 5
}
